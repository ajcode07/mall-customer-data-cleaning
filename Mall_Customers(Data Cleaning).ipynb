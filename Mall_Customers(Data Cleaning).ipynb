{
 "cells": [
  {
   "cell_type": "markdown",
   "id": "83fb5b99-ed60-4a0b-b398-1c8701e4eda6",
   "metadata": {},
   "source": [
    "## 1️⃣ Import Libraries"
   ]
  },
  {
   "cell_type": "code",
   "execution_count": 1,
   "id": "552b81d3-d04e-4589-9732-bed450fa6e04",
   "metadata": {},
   "outputs": [],
   "source": [
    "import numpy as np\n",
    "import pandas as pd"
   ]
  },
  {
   "cell_type": "markdown",
   "id": "46c2988a-5619-4b75-936b-32c961c365f9",
   "metadata": {},
   "source": [
    "### 🔃 Load Dataset"
   ]
  },
  {
   "cell_type": "code",
   "execution_count": 2,
   "id": "af8b5924-bf48-4aaa-b0be-0ab1242dc7a7",
   "metadata": {},
   "outputs": [
    {
     "data": {
      "text/html": [
       "<div>\n",
       "<style scoped>\n",
       "    .dataframe tbody tr th:only-of-type {\n",
       "        vertical-align: middle;\n",
       "    }\n",
       "\n",
       "    .dataframe tbody tr th {\n",
       "        vertical-align: top;\n",
       "    }\n",
       "\n",
       "    .dataframe thead th {\n",
       "        text-align: right;\n",
       "    }\n",
       "</style>\n",
       "<table border=\"1\" class=\"dataframe\">\n",
       "  <thead>\n",
       "    <tr style=\"text-align: right;\">\n",
       "      <th></th>\n",
       "      <th>customerid</th>\n",
       "      <th>gender</th>\n",
       "      <th>age</th>\n",
       "      <th>annual_income_(k$)</th>\n",
       "      <th>spending_score_(1-100)</th>\n",
       "    </tr>\n",
       "  </thead>\n",
       "  <tbody>\n",
       "    <tr>\n",
       "      <th>0</th>\n",
       "      <td>1</td>\n",
       "      <td>male</td>\n",
       "      <td>19</td>\n",
       "      <td>15</td>\n",
       "      <td>39</td>\n",
       "    </tr>\n",
       "    <tr>\n",
       "      <th>1</th>\n",
       "      <td>2</td>\n",
       "      <td>male</td>\n",
       "      <td>21</td>\n",
       "      <td>15</td>\n",
       "      <td>81</td>\n",
       "    </tr>\n",
       "    <tr>\n",
       "      <th>2</th>\n",
       "      <td>4</td>\n",
       "      <td>female</td>\n",
       "      <td>23</td>\n",
       "      <td>16</td>\n",
       "      <td>77</td>\n",
       "    </tr>\n",
       "    <tr>\n",
       "      <th>3</th>\n",
       "      <td>5</td>\n",
       "      <td>female</td>\n",
       "      <td>31</td>\n",
       "      <td>17</td>\n",
       "      <td>40</td>\n",
       "    </tr>\n",
       "    <tr>\n",
       "      <th>4</th>\n",
       "      <td>6</td>\n",
       "      <td>female</td>\n",
       "      <td>22</td>\n",
       "      <td>17</td>\n",
       "      <td>76</td>\n",
       "    </tr>\n",
       "    <tr>\n",
       "      <th>...</th>\n",
       "      <td>...</td>\n",
       "      <td>...</td>\n",
       "      <td>...</td>\n",
       "      <td>...</td>\n",
       "      <td>...</td>\n",
       "    </tr>\n",
       "    <tr>\n",
       "      <th>224</th>\n",
       "      <td>226</td>\n",
       "      <td>female</td>\n",
       "      <td>50</td>\n",
       "      <td>67</td>\n",
       "      <td>57</td>\n",
       "    </tr>\n",
       "    <tr>\n",
       "      <th>225</th>\n",
       "      <td>227</td>\n",
       "      <td>male</td>\n",
       "      <td>27</td>\n",
       "      <td>67</td>\n",
       "      <td>56</td>\n",
       "    </tr>\n",
       "    <tr>\n",
       "      <th>226</th>\n",
       "      <td>228</td>\n",
       "      <td>female</td>\n",
       "      <td>38</td>\n",
       "      <td>67</td>\n",
       "      <td>40</td>\n",
       "    </tr>\n",
       "    <tr>\n",
       "      <th>227</th>\n",
       "      <td>229</td>\n",
       "      <td>female</td>\n",
       "      <td>40</td>\n",
       "      <td>69</td>\n",
       "      <td>58</td>\n",
       "    </tr>\n",
       "    <tr>\n",
       "      <th>228</th>\n",
       "      <td>230</td>\n",
       "      <td>male</td>\n",
       "      <td>39</td>\n",
       "      <td>69</td>\n",
       "      <td>91</td>\n",
       "    </tr>\n",
       "  </tbody>\n",
       "</table>\n",
       "<p>229 rows × 5 columns</p>\n",
       "</div>"
      ],
      "text/plain": [
       "     customerid  gender  age  annual_income_(k$)  spending_score_(1-100)\n",
       "0             1    male   19                  15                      39\n",
       "1             2    male   21                  15                      81\n",
       "2             4  female   23                  16                      77\n",
       "3             5  female   31                  17                      40\n",
       "4             6  female   22                  17                      76\n",
       "..          ...     ...  ...                 ...                     ...\n",
       "224         226  female   50                  67                      57\n",
       "225         227    male   27                  67                      56\n",
       "226         228  female   38                  67                      40\n",
       "227         229  female   40                  69                      58\n",
       "228         230    male   39                  69                      91\n",
       "\n",
       "[229 rows x 5 columns]"
      ]
     },
     "execution_count": 2,
     "metadata": {},
     "output_type": "execute_result"
    }
   ],
   "source": [
    "df = pd.read_csv(r\"C:\\Users\\Asus Pc\\Desktop\\Mall_Customers.csv\")\n",
    "df\n"
   ]
  },
  {
   "cell_type": "markdown",
   "id": "3f4c1fae-d30b-4163-b155-4d1132c7bfd9",
   "metadata": {},
   "source": [
    "### Explore the Data (EDA)\n"
   ]
  },
  {
   "cell_type": "code",
   "execution_count": 3,
   "id": "8226fa5f-9382-4e0b-9d1c-4ee69ab7bd66",
   "metadata": {},
   "outputs": [
    {
     "data": {
      "text/plain": [
       "(229, 5)"
      ]
     },
     "execution_count": 3,
     "metadata": {},
     "output_type": "execute_result"
    }
   ],
   "source": [
    "df.shape"
   ]
  },
  {
   "cell_type": "code",
   "execution_count": 4,
   "id": "3da39ce6-1d1d-4199-946e-badd1b36f440",
   "metadata": {},
   "outputs": [
    {
     "data": {
      "text/html": [
       "<div>\n",
       "<style scoped>\n",
       "    .dataframe tbody tr th:only-of-type {\n",
       "        vertical-align: middle;\n",
       "    }\n",
       "\n",
       "    .dataframe tbody tr th {\n",
       "        vertical-align: top;\n",
       "    }\n",
       "\n",
       "    .dataframe thead th {\n",
       "        text-align: right;\n",
       "    }\n",
       "</style>\n",
       "<table border=\"1\" class=\"dataframe\">\n",
       "  <thead>\n",
       "    <tr style=\"text-align: right;\">\n",
       "      <th></th>\n",
       "      <th>count</th>\n",
       "      <th>mean</th>\n",
       "      <th>std</th>\n",
       "      <th>min</th>\n",
       "      <th>25%</th>\n",
       "      <th>50%</th>\n",
       "      <th>75%</th>\n",
       "      <th>max</th>\n",
       "    </tr>\n",
       "  </thead>\n",
       "  <tbody>\n",
       "    <tr>\n",
       "      <th>customerid</th>\n",
       "      <td>229.0</td>\n",
       "      <td>115.253275</td>\n",
       "      <td>66.565998</td>\n",
       "      <td>1.0</td>\n",
       "      <td>57.0</td>\n",
       "      <td>116.0</td>\n",
       "      <td>172.0</td>\n",
       "      <td>230.0</td>\n",
       "    </tr>\n",
       "    <tr>\n",
       "      <th>age</th>\n",
       "      <td>229.0</td>\n",
       "      <td>38.790393</td>\n",
       "      <td>13.344612</td>\n",
       "      <td>18.0</td>\n",
       "      <td>29.0</td>\n",
       "      <td>37.0</td>\n",
       "      <td>49.0</td>\n",
       "      <td>70.0</td>\n",
       "    </tr>\n",
       "    <tr>\n",
       "      <th>annual_income_(k$)</th>\n",
       "      <td>229.0</td>\n",
       "      <td>60.174672</td>\n",
       "      <td>25.434903</td>\n",
       "      <td>15.0</td>\n",
       "      <td>40.0</td>\n",
       "      <td>62.0</td>\n",
       "      <td>78.0</td>\n",
       "      <td>137.0</td>\n",
       "    </tr>\n",
       "    <tr>\n",
       "      <th>spending_score_(1-100)</th>\n",
       "      <td>229.0</td>\n",
       "      <td>50.218341</td>\n",
       "      <td>25.970892</td>\n",
       "      <td>1.0</td>\n",
       "      <td>32.0</td>\n",
       "      <td>51.0</td>\n",
       "      <td>73.0</td>\n",
       "      <td>99.0</td>\n",
       "    </tr>\n",
       "  </tbody>\n",
       "</table>\n",
       "</div>"
      ],
      "text/plain": [
       "                        count        mean        std   min   25%    50%  \\\n",
       "customerid              229.0  115.253275  66.565998   1.0  57.0  116.0   \n",
       "age                     229.0   38.790393  13.344612  18.0  29.0   37.0   \n",
       "annual_income_(k$)      229.0   60.174672  25.434903  15.0  40.0   62.0   \n",
       "spending_score_(1-100)  229.0   50.218341  25.970892   1.0  32.0   51.0   \n",
       "\n",
       "                          75%    max  \n",
       "customerid              172.0  230.0  \n",
       "age                      49.0   70.0  \n",
       "annual_income_(k$)       78.0  137.0  \n",
       "spending_score_(1-100)   73.0   99.0  "
      ]
     },
     "execution_count": 4,
     "metadata": {},
     "output_type": "execute_result"
    }
   ],
   "source": [
    "df.describe().T"
   ]
  },
  {
   "cell_type": "code",
   "execution_count": 5,
   "id": "d1ec5ea6-a04a-485b-902c-5c3b60bafb79",
   "metadata": {},
   "outputs": [
    {
     "name": "stdout",
     "output_type": "stream",
     "text": [
      "<class 'pandas.core.frame.DataFrame'>\n",
      "RangeIndex: 229 entries, 0 to 228\n",
      "Data columns (total 5 columns):\n",
      " #   Column                  Non-Null Count  Dtype \n",
      "---  ------                  --------------  ----- \n",
      " 0   customerid              229 non-null    int64 \n",
      " 1   gender                  224 non-null    object\n",
      " 2   age                     229 non-null    int64 \n",
      " 3   annual_income_(k$)      229 non-null    int64 \n",
      " 4   spending_score_(1-100)  229 non-null    int64 \n",
      "dtypes: int64(4), object(1)\n",
      "memory usage: 9.1+ KB\n"
     ]
    }
   ],
   "source": [
    "df.info()"
   ]
  },
  {
   "cell_type": "code",
   "execution_count": 6,
   "id": "162cd334-1674-4268-b852-70f2d670e798",
   "metadata": {},
   "outputs": [
    {
     "data": {
      "text/plain": [
       "customerid                0\n",
       "gender                    5\n",
       "age                       0\n",
       "annual_income_(k$)        0\n",
       "spending_score_(1-100)    0\n",
       "dtype: int64"
      ]
     },
     "execution_count": 6,
     "metadata": {},
     "output_type": "execute_result"
    }
   ],
   "source": [
    "df.isnull().sum()"
   ]
  },
  {
   "cell_type": "code",
   "execution_count": 7,
   "id": "d79cfafc-f9d5-41e3-a2a3-512584b488ab",
   "metadata": {},
   "outputs": [
    {
     "data": {
      "text/plain": [
       "5"
      ]
     },
     "execution_count": 7,
     "metadata": {},
     "output_type": "execute_result"
    }
   ],
   "source": [
    "df.duplicated().sum()"
   ]
  },
  {
   "cell_type": "markdown",
   "id": "8ac21090-607b-47a5-a4c7-011cc263877e",
   "metadata": {},
   "source": [
    "### Handle Missing Values"
   ]
  },
  {
   "cell_type": "code",
   "execution_count": 8,
   "id": "abdabc08-f6ee-4567-b0b6-f02235d9d77b",
   "metadata": {},
   "outputs": [],
   "source": [
    "# Drop rows with nulls\n",
    "df = df.dropna()\n",
    "\n",
    "# OR fill missing Gender with \"Unknown\"\n",
    "# df[\"Gender\"] = df[\"Gender\"].fillna(\"Unknown\")\n"
   ]
  },
  {
   "cell_type": "markdown",
   "id": "acb1f846-1b9f-4c29-9fb1-596012f6006d",
   "metadata": {},
   "source": [
    "### Remove Duplicates"
   ]
  },
  {
   "cell_type": "code",
   "execution_count": 9,
   "id": "e66abe06-57f9-4306-981a-8ac322d1935b",
   "metadata": {},
   "outputs": [],
   "source": [
    "df = df.drop_duplicates()\n"
   ]
  },
  {
   "cell_type": "markdown",
   "id": "f1470deb-904c-4cba-99ff-d12e3b8daeb9",
   "metadata": {},
   "source": [
    "### Standardize Text Values"
   ]
  },
  {
   "cell_type": "code",
   "execution_count": 10,
   "id": "4ea1a8d4-3db7-449b-aabd-58ef8f5ce5a7",
   "metadata": {},
   "outputs": [],
   "source": [
    "df[\"gender\"] = df[\"gender\"].str.lower().str.strip()\n",
    "df[\"gender\"] = df[\"gender\"].replace({\"m\": \"male\", \"f\": \"female\"})\n"
   ]
  },
  {
   "cell_type": "markdown",
   "id": "c3dbdc94-9c83-4c8a-b212-72ff42c0874a",
   "metadata": {},
   "source": [
    "### Rename Columns"
   ]
  },
  {
   "cell_type": "code",
   "execution_count": 11,
   "id": "591dadd0-3cb8-46c9-bb08-8971d8dc3a15",
   "metadata": {},
   "outputs": [],
   "source": [
    "df.columns = df.columns.str.lower().str.replace(\" \", \"_\")\n"
   ]
  },
  {
   "cell_type": "markdown",
   "id": "f4020905-8d38-4067-ab86-52e3fea8a710",
   "metadata": {},
   "source": [
    "#### Check Data Types\n"
   ]
  },
  {
   "cell_type": "code",
   "execution_count": 12,
   "id": "5dd8d052-8275-4cf8-88b4-d1ed6fbd8523",
   "metadata": {},
   "outputs": [
    {
     "name": "stdout",
     "output_type": "stream",
     "text": [
      "customerid                 int64\n",
      "gender                    object\n",
      "age                        int64\n",
      "annual_income_(k$)         int64\n",
      "spending_score_(1-100)     int64\n",
      "dtype: object\n"
     ]
    }
   ],
   "source": [
    "print(df.dtypes)\n",
    "\n",
    "# Convert age to int if needed\n",
    "df[\"age\"] = df[\"age\"].astype(int)\n",
    "\n",
    "# Annual income → float\n",
    "df[\"annual_income_(k$)\"] = df[\"annual_income_(k$)\"].astype(float)\n"
   ]
  },
  {
   "cell_type": "markdown",
   "id": "297d01db-84b1-4e43-a4d8-7fcea9a05c21",
   "metadata": {},
   "source": [
    "#### Save Cleaned Data\n",
    "\n"
   ]
  },
  {
   "cell_type": "code",
   "execution_count": 13,
   "id": "285abbe5-cc0e-4712-b452-1f86cb3d7009",
   "metadata": {},
   "outputs": [],
   "source": [
    "df.to_csv(\"Mall_Customers.csv\", index=False)\n"
   ]
  },
  {
   "cell_type": "code",
   "execution_count": 14,
   "id": "56e2a1d6-a416-4e00-828a-8756a1ab4990",
   "metadata": {},
   "outputs": [
    {
     "data": {
      "text/html": [
       "<div>\n",
       "<style scoped>\n",
       "    .dataframe tbody tr th:only-of-type {\n",
       "        vertical-align: middle;\n",
       "    }\n",
       "\n",
       "    .dataframe tbody tr th {\n",
       "        vertical-align: top;\n",
       "    }\n",
       "\n",
       "    .dataframe thead th {\n",
       "        text-align: right;\n",
       "    }\n",
       "</style>\n",
       "<table border=\"1\" class=\"dataframe\">\n",
       "  <thead>\n",
       "    <tr style=\"text-align: right;\">\n",
       "      <th></th>\n",
       "      <th>customerid</th>\n",
       "      <th>gender</th>\n",
       "      <th>age</th>\n",
       "      <th>annual_income_(k$)</th>\n",
       "      <th>spending_score_(1-100)</th>\n",
       "    </tr>\n",
       "  </thead>\n",
       "  <tbody>\n",
       "    <tr>\n",
       "      <th>0</th>\n",
       "      <td>1</td>\n",
       "      <td>male</td>\n",
       "      <td>19</td>\n",
       "      <td>15.0</td>\n",
       "      <td>39</td>\n",
       "    </tr>\n",
       "    <tr>\n",
       "      <th>1</th>\n",
       "      <td>2</td>\n",
       "      <td>male</td>\n",
       "      <td>21</td>\n",
       "      <td>15.0</td>\n",
       "      <td>81</td>\n",
       "    </tr>\n",
       "    <tr>\n",
       "      <th>2</th>\n",
       "      <td>4</td>\n",
       "      <td>female</td>\n",
       "      <td>23</td>\n",
       "      <td>16.0</td>\n",
       "      <td>77</td>\n",
       "    </tr>\n",
       "    <tr>\n",
       "      <th>3</th>\n",
       "      <td>5</td>\n",
       "      <td>female</td>\n",
       "      <td>31</td>\n",
       "      <td>17.0</td>\n",
       "      <td>40</td>\n",
       "    </tr>\n",
       "    <tr>\n",
       "      <th>4</th>\n",
       "      <td>6</td>\n",
       "      <td>female</td>\n",
       "      <td>22</td>\n",
       "      <td>17.0</td>\n",
       "      <td>76</td>\n",
       "    </tr>\n",
       "    <tr>\n",
       "      <th>...</th>\n",
       "      <td>...</td>\n",
       "      <td>...</td>\n",
       "      <td>...</td>\n",
       "      <td>...</td>\n",
       "      <td>...</td>\n",
       "    </tr>\n",
       "    <tr>\n",
       "      <th>224</th>\n",
       "      <td>226</td>\n",
       "      <td>female</td>\n",
       "      <td>50</td>\n",
       "      <td>67.0</td>\n",
       "      <td>57</td>\n",
       "    </tr>\n",
       "    <tr>\n",
       "      <th>225</th>\n",
       "      <td>227</td>\n",
       "      <td>male</td>\n",
       "      <td>27</td>\n",
       "      <td>67.0</td>\n",
       "      <td>56</td>\n",
       "    </tr>\n",
       "    <tr>\n",
       "      <th>226</th>\n",
       "      <td>228</td>\n",
       "      <td>female</td>\n",
       "      <td>38</td>\n",
       "      <td>67.0</td>\n",
       "      <td>40</td>\n",
       "    </tr>\n",
       "    <tr>\n",
       "      <th>227</th>\n",
       "      <td>229</td>\n",
       "      <td>female</td>\n",
       "      <td>40</td>\n",
       "      <td>69.0</td>\n",
       "      <td>58</td>\n",
       "    </tr>\n",
       "    <tr>\n",
       "      <th>228</th>\n",
       "      <td>230</td>\n",
       "      <td>male</td>\n",
       "      <td>39</td>\n",
       "      <td>69.0</td>\n",
       "      <td>91</td>\n",
       "    </tr>\n",
       "  </tbody>\n",
       "</table>\n",
       "<p>219 rows × 5 columns</p>\n",
       "</div>"
      ],
      "text/plain": [
       "     customerid  gender  age  annual_income_(k$)  spending_score_(1-100)\n",
       "0             1    male   19                15.0                      39\n",
       "1             2    male   21                15.0                      81\n",
       "2             4  female   23                16.0                      77\n",
       "3             5  female   31                17.0                      40\n",
       "4             6  female   22                17.0                      76\n",
       "..          ...     ...  ...                 ...                     ...\n",
       "224         226  female   50                67.0                      57\n",
       "225         227    male   27                67.0                      56\n",
       "226         228  female   38                67.0                      40\n",
       "227         229  female   40                69.0                      58\n",
       "228         230    male   39                69.0                      91\n",
       "\n",
       "[219 rows x 5 columns]"
      ]
     },
     "execution_count": 14,
     "metadata": {},
     "output_type": "execute_result"
    }
   ],
   "source": [
    "df"
   ]
  }
 ],
 "metadata": {
  "kernelspec": {
   "display_name": "Python 3 (ipykernel)",
   "language": "python",
   "name": "python3"
  },
  "language_info": {
   "codemirror_mode": {
    "name": "ipython",
    "version": 3
   },
   "file_extension": ".py",
   "mimetype": "text/x-python",
   "name": "python",
   "nbconvert_exporter": "python",
   "pygments_lexer": "ipython3",
   "version": "3.12.7"
  }
 },
 "nbformat": 4,
 "nbformat_minor": 5
}
